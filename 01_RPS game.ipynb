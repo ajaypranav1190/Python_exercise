{
 "cells": [
  {
   "cell_type": "markdown",
   "metadata": {},
   "source": [
    "# Rock Paper Scissors"
   ]
  },
  {
   "cell_type": "markdown",
   "metadata": {},
   "source": [
    "In this code lets learn how make a RPS game\n",
    "\n",
    "Here the task is make a RPS game and display the result based on best of 3 matches\n",
    "\n",
    "There are several ways to code this i have done using a dict and assiging values to rock, paper and scissors.\n",
    "\n",
    "Same can be done with nested if too."
   ]
  },
  {
   "cell_type": "code",
   "execution_count": 1,
   "metadata": {},
   "outputs": [],
   "source": [
    "import random as rd"
   ]
  },
  {
   "cell_type": "code",
   "execution_count": 2,
   "metadata": {},
   "outputs": [],
   "source": [
    "gamelist=['rock','paper','scissors']\n",
    "gamedict={'rock':1,'paper':2,'scissors':3}"
   ]
  },
  {
   "cell_type": "raw",
   "metadata": {},
   "source": [
    "Logic used:\n",
    "\n",
    "User enters Rock and Python enters Paper the value for rock is 1 and paper is 2, \n",
    "Difference will be 1-2 = -1 and python is the winer.\n",
    "\n",
    "From the below table we can tell that if the difference is -1 and +2 python or the second player is the winner.\n",
    "If the difference is -2 and +1 the user i.e. first player is the winner. We are going to use the below logic to build the code\n",
    "\n",
    "user--- R---P --> 1-2 -- >-1 win -->py\n",
    "user----R---S--->1-3 ---->-2 win --->user\n",
    "user--->P---S--->2-3----->-1 Win --> py\n",
    "user--->P---R--->2-1----->+1 Win --> user\n",
    "User--->S---R--->3-1----->+2 Win --> py\n",
    "user--->S---P--->3-2----->+1 Win --> user"
   ]
  },
  {
   "cell_type": "code",
   "execution_count": 8,
   "metadata": {},
   "outputs": [
    {
     "name": "stdout",
     "output_type": "stream",
     "text": [
      "Type q to quit ok to start the game:ok\n",
      "Game 1 play now:rock\n",
      "Users has entered: rock \n",
      "Python has entered: 1\n",
      "Tie\n",
      "Game 2 play now:scissors\n",
      "Users has entered: scissors \n",
      "Python has entered: 3\n",
      "Tie\n",
      "Game 3 play now:paper\n",
      "Users has entered: paper \n",
      "Python has entered: 2\n",
      "Tie\n",
      "The scores are \n",
      "User: 0 \n",
      "Pyhton: 0 \n",
      "And its a Tie\n"
     ]
    }
   ],
   "source": [
    "count=0\n",
    "player=0\n",
    "python=0\n",
    "userinput=input(\"Type q to quit ok to start the game:\")\n",
    "while userinput=='ok':\n",
    "    while count<=2:\n",
    "        gameinput=input(\"Game {} play now:\".format(count+1))\n",
    "        if gameinput not in gamelist:\n",
    "            print(\"Enter proper value : 'rock','paper','scissors'\")\n",
    "            break\n",
    "        count+=1\n",
    "        py=rd.choice(gamelist)\n",
    "        py=gamedict[py]\n",
    "        user=gamedict[gameinput]\n",
    "        print('Users has entered: {} \\nPython has entered: {}'.format(gameinput,py))\n",
    "        win=user-py\n",
    "        \n",
    "        if win in [1,-2]:\n",
    "            print(\"User wins\")\n",
    "            player+=1\n",
    "        elif win in [-1,2]:\n",
    "            print (\"Python wins\")\n",
    "            python+=1\n",
    "        else:\n",
    "            print(\"Tie\")\n",
    "    break\n",
    "\n",
    "if player==python:\n",
    "    print('The scores are \\nUser: {} \\nPyhton: {} \\nAnd its a Tie'.format(player,python))\n",
    "elif player>python:\n",
    "    print('The scores are \\nUser: {} \\nPyhton: {} \\nCongrats you win'.format(player,python))\n",
    "else:\n",
    "    print('The scores are \\nUser: {} \\nPyhton: {} \\nCome on you can beat me'.format(player,python))\n",
    "    "
   ]
  }
 ],
 "metadata": {
  "kernelspec": {
   "display_name": "Python 3",
   "language": "python",
   "name": "python3"
  },
  "language_info": {
   "codemirror_mode": {
    "name": "ipython",
    "version": 3
   },
   "file_extension": ".py",
   "mimetype": "text/x-python",
   "name": "python",
   "nbconvert_exporter": "python",
   "pygments_lexer": "ipython3",
   "version": "3.6.7"
  }
 },
 "nbformat": 4,
 "nbformat_minor": 2
}
