{
 "cells": [
  {
   "cell_type": "markdown",
   "metadata": {},
   "source": [
    "Usually we ranomd function to generate a random and ask the user to guess it.\n",
    "For a change we use maths to guess the users input"
   ]
  },
  {
   "cell_type": "code",
   "execution_count": 101,
   "metadata": {},
   "outputs": [],
   "source": [
    "import random as rd\n",
    "import time"
   ]
  },
  {
   "cell_type": "code",
   "execution_count": 115,
   "metadata": {},
   "outputs": [],
   "source": [
    "numbertoadd=rd.randrange(1000,100000,10)\n",
    "def keycontinue():\n",
    "    input(\"hit any key to continue:\")\n",
    "    "
   ]
  },
  {
   "cell_type": "code",
   "execution_count": 114,
   "metadata": {},
   "outputs": [
    {
     "name": "stdout",
     "output_type": "stream",
     "text": [
      "Press a to guess the result, press b to guess the number:b\n",
      "Imagine a some amount of money left with you:\n",
      "hit any key to continue:\n",
      "Your friend lends you the exact same amount of money left with you\n",
      "hit any key to continue:\n",
      "Now you have you a lottery of 12960\n",
      "hit any key to continue:\n",
      "You have to donate half of the total amount to Charity\n",
      "hit any key to continue:\n",
      "Enter the amount left with you:6481\n",
      "The initial amount you had is: 1.0\n"
     ]
    }
   ],
   "source": [
    "Gametype=input(\"Press a to guess the result, press b to guess the number:\")\n",
    "\n",
    "if Gametype in ['a','b']:\n",
    "    print(\"Imagine a some amount of money left with you:\")\n",
    "    keycontinue()\n",
    "    print(\"Your friend lends you the exact same amount of money left with you\")\n",
    "    keycontinue()\n",
    "    print(\"Now you have you a lottery of {}\".format(numbertoadd))\n",
    "    keycontinue()\n",
    "    print(\"You have to donate half of the total amount to Charity\")\n",
    "    keycontinue()\n",
    "\n",
    "    if Gametype=='a':\n",
    "        print(\"Return the amount you got from your friend\")\n",
    "        keycontinue()\n",
    "        print(\"Now your are left with {}\".format(numbertoadd/2))\n",
    "    else:\n",
    "        amoountleft=input(\"Enter the amount left with you:\")\n",
    "        print(\"The initial amount you had is: {}\".format(int(amoountleft)-numbertoadd/2))\n",
    "else:\n",
    "    print(\"Enter a or b\")\n",
    "64"
   ]
  }
 ],
 "metadata": {
  "kernelspec": {
   "display_name": "Python 3",
   "language": "python",
   "name": "python3"
  },
  "language_info": {
   "codemirror_mode": {
    "name": "ipython",
    "version": 3
   },
   "file_extension": ".py",
   "mimetype": "text/x-python",
   "name": "python",
   "nbconvert_exporter": "python",
   "pygments_lexer": "ipython3",
   "version": "3.6.7"
  }
 },
 "nbformat": 4,
 "nbformat_minor": 2
}
